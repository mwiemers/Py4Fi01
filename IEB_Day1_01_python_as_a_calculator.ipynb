{
 "cells": [
  {
   "cell_type": "markdown",
   "metadata": {},
   "source": [
    "# Python as a Calculator"
   ]
  },
  {
   "cell_type": "markdown",
   "metadata": {},
   "source": [
    "In this section you will learn how to carry out basic calculations using the print function.\n",
    "\n",
    "<b>You will learn about</b>:\n",
    "* Using the print() function\n",
    "* Basic calculations (addition, subtraction, multiplication and division)\n",
    "* How to identify and fix common errors\n"
   ]
  },
  {
   "cell_type": "markdown",
   "metadata": {},
   "source": [
    "### Examples from intro to calculations"
   ]
  },
  {
   "cell_type": "code",
   "execution_count": 10,
   "metadata": {},
   "outputs": [
    {
     "name": "stdout",
     "output_type": "stream",
     "text": [
      "100\n"
     ]
    }
   ],
   "source": [
    "# Printing a number\n",
    "print(100)"
   ]
  },
  {
   "cell_type": "code",
   "execution_count": 14,
   "metadata": {},
   "outputs": [
    {
     "name": "stdout",
     "output_type": "stream",
     "text": [
      "2\n",
      "1\n",
      "6\n",
      "2.0\n",
      "8\n"
     ]
    }
   ],
   "source": [
    "# carrying out calculations\n",
    "print(1+1) # addition\n",
    "print(3-2) # substraction\n",
    "print(3*2) # multiplication\n",
    "print(4/2) # division\n",
    "print(2**3) ## exponentiation"
   ]
  },
  {
   "cell_type": "code",
   "execution_count": 13,
   "metadata": {},
   "outputs": [
    {
     "name": "stdout",
     "output_type": "stream",
     "text": [
      "3.0\n"
     ]
    }
   ],
   "source": [
    "# using brackets\n",
    "print((2+4)/2)"
   ]
  },
  {
   "cell_type": "markdown",
   "metadata": {},
   "source": [
    "### Task 1: Printing numbers"
   ]
  },
  {
   "cell_type": "markdown",
   "metadata": {},
   "source": [
    "<ol>\n",
    "    <li>Write a print statement to print the number 2020 and run the code block with Shift+Return</li>\n",
    "    <li>Add a print statement to print the number 1984 and run the code block</li>\n",
    "    <li>Add a print statement to print a decimal number like for instance 3.14159 and run the code block</li>\n",
    "</ol>\n",
    "\n",
    "In programming, whole numbers are called **integers** and decimal numbers are called **floats**."
   ]
  },
  {
   "cell_type": "code",
   "execution_count": null,
   "metadata": {},
   "outputs": [],
   "source": []
  },
  {
   "cell_type": "markdown",
   "metadata": {},
   "source": [
    "### Task 2: Fix the error"
   ]
  },
  {
   "cell_type": "markdown",
   "metadata": {},
   "source": [
    "Run the code cell below.\n",
    "\n",
    "Python will return a Syntax error with the message *unexpected EOF while parsing*. Search online to find out what EOF stands for and fix the error!"
   ]
  },
  {
   "cell_type": "code",
   "execution_count": 2,
   "metadata": {},
   "outputs": [
    {
     "name": "stdout",
     "output_type": "stream",
     "text": [
      "6\n"
     ]
    }
   ],
   "source": [
    "print(4 + 2)"
   ]
  },
  {
   "cell_type": "markdown",
   "metadata": {},
   "source": [
    "### Task 3: Calculations"
   ]
  },
  {
   "cell_type": "markdown",
   "metadata": {},
   "source": [
    "Use the print() function to print out the result of each problem in the block below. "
   ]
  },
  {
   "cell_type": "markdown",
   "metadata": {},
   "source": [
    "- $5 + 8$\n",
    "\n",
    "\n",
    "- $\\frac{9}{2}$\n",
    "\n",
    "\n",
    "- $6 \\times 3$\n",
    "\n",
    "\n",
    "- $2^{3}$\n",
    "\n",
    "\n",
    "- $\\frac{2 + 4}{2}$\n",
    "\n",
    "\n",
    "- $\\frac{3^2}{3-1}$\n",
    "\n",
    "\n",
    "- $\\frac{8}{(3-1)^2}$\n"
   ]
  },
  {
   "cell_type": "code",
   "execution_count": null,
   "metadata": {},
   "outputs": [],
   "source": []
  },
  {
   "cell_type": "markdown",
   "metadata": {},
   "source": [
    "### Task 4: Investment word problem"
   ]
  },
  {
   "cell_type": "markdown",
   "metadata": {},
   "source": [
    "Suppose you have £100, which you can invest with a 10% return each year. \n",
    "\n",
    "After one year, it's 100 × 1.1 = 110 Pound, and after two years it's 100 × 1.1 × 1.1 = 121. \n",
    "\n",
    "Print how much money you end up with after 7 years, while using as few code as possible."
   ]
  },
  {
   "cell_type": "code",
   "execution_count": null,
   "metadata": {},
   "outputs": [],
   "source": []
  },
  {
   "cell_type": "markdown",
   "metadata": {},
   "source": [
    "### Task 5:  Adding comments"
   ]
  },
  {
   "cell_type": "markdown",
   "metadata": {},
   "source": [
    "A comment in programming is explanatory text in your script that will be ignored by Python. Comments are primarily intended to make the code easier to understand for other programmers but can also help you to remember the purpose of your code."
   ]
  },
  {
   "cell_type": "markdown",
   "metadata": {},
   "source": [
    "Add a comment in the first line of your *investment word problem* script that explains in one sentence the purpose of the code."
   ]
  }
 ],
 "metadata": {
  "kernelspec": {
   "display_name": "Python 3",
   "language": "python",
   "name": "python3"
  },
  "language_info": {
   "codemirror_mode": {
    "name": "ipython",
    "version": 3
   },
   "file_extension": ".py",
   "mimetype": "text/x-python",
   "name": "python",
   "nbconvert_exporter": "python",
   "pygments_lexer": "ipython3",
   "version": "3.8.5"
  }
 },
 "nbformat": 4,
 "nbformat_minor": 5
}
