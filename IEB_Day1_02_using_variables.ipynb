{
 "cells": [
  {
   "cell_type": "markdown",
   "id": "sophisticated-logistics",
   "metadata": {},
   "source": [
    "# Variables in Python"
   ]
  },
  {
   "cell_type": "markdown",
   "id": "christian-swiss",
   "metadata": {},
   "source": [
    "In this section you will learn how to use variables in Python.\n",
    "\n",
    "<b>You will learn about</b>:\n",
    "* Creating variables to represent numerical values\n",
    "* Using variables to carry out calculations\n",
    "* How to identify and fix common errors\n"
   ]
  },
  {
   "cell_type": "markdown",
   "id": "outer-bangkok",
   "metadata": {},
   "source": [
    "### Examples from variables intro"
   ]
  },
  {
   "cell_type": "code",
   "execution_count": 1,
   "id": "perfect-mouse",
   "metadata": {},
   "outputs": [
    {
     "name": "stdout",
     "output_type": "stream",
     "text": [
      "1000\n"
     ]
    }
   ],
   "source": [
    "# creating a numerical variable\n",
    "savings = 1000\n",
    "print(savings)"
   ]
  },
  {
   "cell_type": "code",
   "execution_count": 2,
   "id": "common-classic",
   "metadata": {},
   "outputs": [
    {
     "name": "stdout",
     "output_type": "stream",
     "text": [
      "2000\n"
     ]
    }
   ],
   "source": [
    "# updating an existing variable\n",
    "savings = savings + 1000\n",
    "print(savings)"
   ]
  },
  {
   "cell_type": "code",
   "execution_count": 3,
   "id": "mighty-arkansas",
   "metadata": {},
   "outputs": [
    {
     "name": "stdout",
     "output_type": "stream",
     "text": [
      "1500.0\n"
     ]
    }
   ],
   "source": [
    "# carrying out calculations with variables\n",
    "savings_alex = 1000\n",
    "savings_lisa = 2000\n",
    "mean_savings = (savings_alex + savings_lisa)/2\n",
    "print(mean_savings)"
   ]
  },
  {
   "cell_type": "markdown",
   "id": "broke-racing",
   "metadata": {},
   "source": [
    "### Task 1: Name Error"
   ]
  },
  {
   "cell_type": "markdown",
   "id": "tender-keyboard",
   "metadata": {},
   "source": [
    "The name error is another common error, which occurs when Python cannot find a variable in memory that is being used in your script. \n",
    "\n",
    "The most common causes of a name error are:\n",
    "* a typo - you misspelled the variable at some point in your script\n",
    "* you are referring to a variable that you didn't create earlier in your script and Python cannot find in the namespace.\n",
    "\n",
    "**Trigger a name error on purpose with the print() function.**"
   ]
  },
  {
   "cell_type": "code",
   "execution_count": 4,
   "id": "productive-bracket",
   "metadata": {},
   "outputs": [
    {
     "ename": "NameError",
     "evalue": "name 'savings_2' is not defined",
     "output_type": "error",
     "traceback": [
      "\u001b[1;31m---------------------------------------------------------------------------\u001b[0m",
      "\u001b[1;31mNameError\u001b[0m                                 Traceback (most recent call last)",
      "\u001b[1;32m<ipython-input-4-f32ca8230674>\u001b[0m in \u001b[0;36m<module>\u001b[1;34m\u001b[0m\n\u001b[1;32m----> 1\u001b[1;33m \u001b[0mprint\u001b[0m\u001b[1;33m(\u001b[0m\u001b[0msavings_2\u001b[0m\u001b[1;33m)\u001b[0m\u001b[1;33m\u001b[0m\u001b[1;33m\u001b[0m\u001b[0m\n\u001b[0m",
      "\u001b[1;31mNameError\u001b[0m: name 'savings_2' is not defined"
     ]
    }
   ],
   "source": [
    "print(savings_2)"
   ]
  },
  {
   "cell_type": "markdown",
   "id": "competent-salem",
   "metadata": {},
   "source": [
    "### Rules for naming variables"
   ]
  },
  {
   "cell_type": "markdown",
   "id": "rolled-engineering",
   "metadata": {},
   "source": [
    "When creating variables, we have to make sure that we comply with **Python's rules**:\n",
    "\n",
    "Search online to find out what the rules are for naming variables in Python before you start with the next exercise."
   ]
  },
  {
   "cell_type": "markdown",
   "id": "expanded-future",
   "metadata": {},
   "source": [
    "### Task 2: Applying variables to the investment word problem"
   ]
  },
  {
   "cell_type": "markdown",
   "id": "metropolitan-luther",
   "metadata": {},
   "source": [
    "You task is to update the original code on calculating future value of your investment from the previous exercise\n",
    "\n",
    "```python\n",
    "print(100*1.10**7)\n",
    "```\n",
    "\n",
    "by using variables for each value.\n",
    "\n",
    "1. Create variables for each of the values in the calculation:\n",
    "\n",
    "    * intial savings\n",
    "    * interest rate\n",
    "    * years of investment\n",
    "\n",
    "\n",
    "2. Create a variable for the final savings and calculate the final savings with the variables from above.\n",
    "\n",
    "\n",
    "3. Print the final savings."
   ]
  },
  {
   "cell_type": "code",
   "execution_count": 5,
   "id": "proprietary-indian",
   "metadata": {},
   "outputs": [
    {
     "name": "stdout",
     "output_type": "stream",
     "text": [
      "194.87171000000012\n"
     ]
    }
   ],
   "source": [
    "init_savings = 100\n",
    "int_rate = .10\n",
    "years = 7\n",
    "outcome = init_savings*(1+int_rate)**7\n",
    "print(outcome)"
   ]
  },
  {
   "cell_type": "markdown",
   "id": "artificial-words",
   "metadata": {},
   "source": [
    "&nbsp;\n",
    "\n",
    "&nbsp;\n",
    "\n",
    "### Bonus task: Debugging - spot the errors and fix them\n",
    "\n",
    "Work on this bonus task at the end of the workshop or sometime before the next workshop.\n",
    "\n",
    "The process of identifying and fixing errors in your program is called debugging. You already have learned what a syntax and name error is. While these are very common, they also are quite easy to fix since Python will interrupt your program as soon as it detects them and return an error message.\n",
    "\n",
    "A **logic error**, which is also referred to as a **bug** will not prevent Python from running your script but it will create a wrong output. A logic error when running an analysis script could be selecting the wrong column from your dataset when running a regression analysis. Python will still run the script and provide an output for the regression analysis but it will not represent the model that you wanted to test.\n",
    "\n",
    "There are three errors in the code below:\n",
    "- a logic error/bug\n",
    "- a name error\n",
    "- a syntax error\n",
    "\n",
    "Find them all and fix them!"
   ]
  },
  {
   "cell_type": "code",
   "execution_count": null,
   "id": "interstate-belly",
   "metadata": {},
   "outputs": [],
   "source": [
    "seconds_in_a_minute = 60\n",
    "seconds_in_an_hour = seconds_in_a_minute * 60\n",
    "seconds_in_a_day = seconds_in_an_hour * 24\n",
    "seconds_in_a_year = seconds_in_day * 265\n",
    "print seconds_in_a_year"
   ]
  },
  {
   "cell_type": "code",
   "execution_count": 10,
   "id": "faced-lindsay",
   "metadata": {},
   "outputs": [
    {
     "name": "stdout",
     "output_type": "stream",
     "text": [
      "31536000\n"
     ]
    }
   ],
   "source": [
    "seconds_in_a_minute = 60\n",
    "seconds_in_an_hour = seconds_in_a_minute * 60\n",
    "seconds_in_a_day = seconds_in_an_hour * 24\n",
    "seconds_in_a_year = seconds_in_a_day * 365 # incorrect variable name and has to be multiplied with 365\n",
    "print(seconds_in_a_year) # missing parenthesis"
   ]
  },
  {
   "cell_type": "code",
   "execution_count": null,
   "id": "demographic-spanking",
   "metadata": {},
   "outputs": [],
   "source": []
  }
 ],
 "metadata": {
  "kernelspec": {
   "display_name": "Python 3",
   "language": "python",
   "name": "python3"
  },
  "language_info": {
   "codemirror_mode": {
    "name": "ipython",
    "version": 3
   },
   "file_extension": ".py",
   "mimetype": "text/x-python",
   "name": "python",
   "nbconvert_exporter": "python",
   "pygments_lexer": "ipython3",
   "version": "3.8.5"
  }
 },
 "nbformat": 4,
 "nbformat_minor": 5
}
