{
 "cells": [
  {
   "cell_type": "markdown",
   "metadata": {},
   "source": [
    "# For loops"
   ]
  },
  {
   "cell_type": "markdown",
   "metadata": {},
   "source": [
    "In this section you will learn how to use for loops in Python.\n",
    "\n",
    "You will learn about:\n",
    "- Using for loops with a list to select each element\n",
    "- Using for loops with a list of lists to select each list inside the list of lists\n",
    "- Calculating new values using a for loop\n",
    "- Adding new values to lists using a for loop"
   ]
  },
  {
   "cell_type": "markdown",
   "metadata": {},
   "source": [
    "### Examples from the intro"
   ]
  },
  {
   "cell_type": "markdown",
   "metadata": {},
   "source": [
    "#### For loop with a list"
   ]
  },
  {
   "cell_type": "code",
   "execution_count": 2,
   "metadata": {
    "scrolled": true
   },
   "outputs": [
    {
     "name": "stdout",
     "output_type": "stream",
     "text": [
      "FB\n",
      "GOOG\n",
      "MSFT\n",
      "AAPL\n",
      "AMZN\n",
      "done\n"
     ]
    }
   ],
   "source": [
    "big_tech = ['FB', 'GOOG', 'MSFT', 'AAPL', 'AMZN']\n",
    "\n",
    "for comp in big_tech:\n",
    "    print(comp)\n",
    "\n",
    "print('done')"
   ]
  },
  {
   "cell_type": "markdown",
   "metadata": {},
   "source": [
    "#### For loop with a list of lists"
   ]
  },
  {
   "cell_type": "code",
   "execution_count": 2,
   "metadata": {},
   "outputs": [
    {
     "name": "stdout",
     "output_type": "stream",
     "text": [
      "['Apple', 'Google', 'MS']\n"
     ]
    }
   ],
   "source": [
    "shares = [['Apple', 50, 130.84], \n",
    "          ['Google', 12, 2116.82], \n",
    "          ['MS', 20, 211.12]]\n",
    "\n",
    "companies = []\n",
    "\n",
    "for row in shares:\n",
    "    companies.append(row[0])    \n",
    "\n",
    "print(companies)\n"
   ]
  },
  {
   "cell_type": "markdown",
   "metadata": {},
   "source": [
    "### Task 1: Write a for loop to print each element from a list"
   ]
  },
  {
   "cell_type": "markdown",
   "metadata": {},
   "source": [
    "Below you got 5 lists with user rating data from the app store. Each list is for a different app. Each list has data on the name of the app, costs, currency, number of ratings and the average rating.\n",
    "\n",
    "Combine all into the list of lists **app_data_sets** and print each list using a for loop."
   ]
  },
  {
   "cell_type": "code",
   "execution_count": 15,
   "metadata": {},
   "outputs": [],
   "source": [
    "row_1 = ['Facebook', 0.0, 'USD', 2974676, 3.5]\n",
    "row_2 = ['Instagram', 0.0, 'USD', 2161558, 4.5]\n",
    "row_3 = ['Clash of Clans', 0.0, 'USD', 2130805, 4.5]\n",
    "row_4 = ['Temple Run', 0.0, 'USD', 1724546, 4.5]\n",
    "row_5 = ['Pandora - Music & Radio', 0.0, 'USD', 1126879, 4.0]"
   ]
  },
  {
   "cell_type": "code",
   "execution_count": 3,
   "metadata": {},
   "outputs": [],
   "source": [
    "app_data_set = \n",
    "\n",
    "# use for loop to print all lists from the app_data_set list of lits\n",
    "\n"
   ]
  },
  {
   "cell_type": "markdown",
   "metadata": {},
   "source": [
    "### Task 2: Write a for loop to calculate the average rating of the five apps"
   ]
  },
  {
   "cell_type": "markdown",
   "metadata": {},
   "source": [
    "Write a for loop to calculate the average rating across the five apps.\n",
    "\n",
    "The result should be 4.2"
   ]
  },
  {
   "cell_type": "code",
   "execution_count": null,
   "metadata": {},
   "outputs": [],
   "source": []
  },
  {
   "cell_type": "markdown",
   "metadata": {},
   "source": [
    "<details>\n",
    "  <summary>Click here for a hint</summary>\n",
    "  You will first have to add up the ratings from each list with a for loop and then calculate the average rating using the summed up ratings.\n",
    "</details>"
   ]
  },
  {
   "cell_type": "markdown",
   "metadata": {},
   "source": [
    "<details>\n",
    "  <summary>Click here for another hint</summary>\n",
    "    You can use the len() function to get the number of elements in a list\n",
    "    \n",
    "    my_list = [1,2,3,4]\n",
    "    len(my_list)\n",
    "    \n",
    "    4\n",
    "    \n",
    " \n",
    "</details>"
   ]
  },
  {
   "cell_type": "markdown",
   "metadata": {},
   "source": [
    "### Task 3: Write a for loop to append the genre data to each list"
   ]
  },
  {
   "cell_type": "markdown",
   "metadata": {},
   "source": [
    "Sometimes, it makes more sense to use integers to select elements from a list with a for loop.\n",
    "\n",
    "Look at the example below on how to use a list with integers to select elements from a list."
   ]
  },
  {
   "cell_type": "code",
   "execution_count": 2,
   "metadata": {},
   "outputs": [
    {
     "name": "stdout",
     "output_type": "stream",
     "text": [
      "Apple\n",
      "Facebook\n",
      "Google\n",
      "Microsoft\n",
      "Amazon\n"
     ]
    }
   ],
   "source": [
    "my_list = ['Apple', 'Facebook', 'Google', 'Microsoft', 'Amazon']\n",
    "\n",
    "seq = [0,1,2,3,4]\n",
    "\n",
    "for i in seq:\n",
    "    print(my_list[i])\n",
    "    "
   ]
  },
  {
   "cell_type": "markdown",
   "metadata": {},
   "source": [
    "We can also create a sequence with integers automatically with the range function. This way we don't have to type it out. Look at the example to create a range with the integers 0 - 4. We pass five as the value to create 5 values, starting with 0."
   ]
  },
  {
   "cell_type": "code",
   "execution_count": 3,
   "metadata": {},
   "outputs": [
    {
     "name": "stdout",
     "output_type": "stream",
     "text": [
      "0\n",
      "1\n",
      "2\n",
      "3\n",
      "4\n"
     ]
    }
   ],
   "source": [
    "for i in range(5):\n",
    "    print(i)"
   ]
  },
  {
   "cell_type": "markdown",
   "metadata": {},
   "source": [
    "The integers can directly be used to print elements from our list."
   ]
  },
  {
   "cell_type": "code",
   "execution_count": 4,
   "metadata": {},
   "outputs": [
    {
     "name": "stdout",
     "output_type": "stream",
     "text": [
      "Apple\n",
      "Facebook\n",
      "Google\n",
      "Microsoft\n",
      "Amazon\n"
     ]
    }
   ],
   "source": [
    "for i in range(5):\n",
    "    print(my_list[i])"
   ]
  },
  {
   "cell_type": "markdown",
   "metadata": {},
   "source": [
    "We can even use the `len()` function to get the number of elements we need automatically. "
   ]
  },
  {
   "cell_type": "code",
   "execution_count": 5,
   "metadata": {},
   "outputs": [
    {
     "data": {
      "text/plain": [
       "5"
      ]
     },
     "execution_count": 5,
     "metadata": {},
     "output_type": "execute_result"
    }
   ],
   "source": [
    "len(my_list)"
   ]
  },
  {
   "cell_type": "markdown",
   "metadata": {},
   "source": [
    "We can put `len(my_list)` inside the `range()` function to create a series of numbers to select all values from our list. This is quite useful when dealing with longer lists, so we do not have to count the number of elements to give a value to the range() function."
   ]
  },
  {
   "cell_type": "code",
   "execution_count": 6,
   "metadata": {},
   "outputs": [
    {
     "name": "stdout",
     "output_type": "stream",
     "text": [
      "Apple\n",
      "Facebook\n",
      "Google\n",
      "Microsoft\n",
      "Amazon\n"
     ]
    }
   ],
   "source": [
    "for i in range(len(my_list)):\n",
    "    print(my_list[i])"
   ]
  },
  {
   "cell_type": "markdown",
   "metadata": {},
   "source": [
    "We have added a list with the genre of each app. Use the a for loop with the range() function to add the values from the genre list to each row in the app_data_set list."
   ]
  },
  {
   "cell_type": "code",
   "execution_count": null,
   "metadata": {},
   "outputs": [],
   "source": [
    "genre = ['social networking', 'photo & video', 'game', 'game', 'music']\n",
    "\n"
   ]
  }
 ],
 "metadata": {
  "kernelspec": {
   "display_name": "Python 3",
   "language": "python",
   "name": "python3"
  },
  "language_info": {
   "codemirror_mode": {
    "name": "ipython",
    "version": 3
   },
   "file_extension": ".py",
   "mimetype": "text/x-python",
   "name": "python",
   "nbconvert_exporter": "python",
   "pygments_lexer": "ipython3",
   "version": "3.8.5"
  }
 },
 "nbformat": 4,
 "nbformat_minor": 2
}
