{
 "cells": [
  {
   "cell_type": "markdown",
   "metadata": {},
   "source": [
    "# Lists"
   ]
  },
  {
   "cell_type": "markdown",
   "metadata": {},
   "source": [
    "In this section you will learn how to use lists in Python.\n",
    "\n",
    "You will learn about:\n",
    "- Creating and indexing elements from a list\n",
    "- Creating slices of elements\n",
    "- Carrying out calculations with list elements\n",
    "- Creating a list of lists\n",
    "- Using chained indexing to select elements from a list of lists"
   ]
  },
  {
   "cell_type": "markdown",
   "metadata": {},
   "source": [
    "### Examples from the lists introduction"
   ]
  },
  {
   "cell_type": "code",
   "execution_count": 15,
   "metadata": {},
   "outputs": [
    {
     "name": "stdout",
     "output_type": "stream",
     "text": [
      "['Apple', 50, 130.84, 'Google', 12, 2116.82]\n"
     ]
    }
   ],
   "source": [
    "# Creating a list\n",
    "shares = ['Apple', 50, 130.84, 'Google', 12, 2116.82]\n",
    "print(shares)"
   ]
  },
  {
   "cell_type": "code",
   "execution_count": 16,
   "metadata": {},
   "outputs": [
    {
     "name": "stdout",
     "output_type": "stream",
     "text": [
      "Apple\n",
      "Google\n"
     ]
    }
   ],
   "source": [
    "# Indexing single elements\n",
    "print(shares[0])\n",
    "print(shares[3])"
   ]
  },
  {
   "cell_type": "code",
   "execution_count": 17,
   "metadata": {},
   "outputs": [
    {
     "name": "stdout",
     "output_type": "stream",
     "text": [
      "['Apple', 50, 130.84]\n"
     ]
    }
   ],
   "source": [
    "# Slicing all values for Apple\n",
    "print(shares[:3])"
   ]
  },
  {
   "cell_type": "code",
   "execution_count": 18,
   "metadata": {},
   "outputs": [
    {
     "name": "stdout",
     "output_type": "stream",
     "text": [
      "31943.840000000004\n"
     ]
    }
   ],
   "source": [
    "# Calculations with list elements\n",
    "shares_sum = shares[1]*shares[2] + shares[-1]*shares[-2]\n",
    "print(shares_sum)"
   ]
  },
  {
   "cell_type": "code",
   "execution_count": 19,
   "metadata": {},
   "outputs": [
    {
     "name": "stdout",
     "output_type": "stream",
     "text": [
      "[['Apple', 50, 130.84], ['Google', 12, 2116.82], ['MSFT', 20, 211.12]]\n"
     ]
    }
   ],
   "source": [
    "# creating a list of lists\n",
    "row_1 = ['Apple', 50, 130.84]\n",
    "row_2 = ['Google', 12, 2116.82]\n",
    "row_3 = ['MSFT', 20, 211.12]\n",
    "\n",
    "# How can you combine the the three row lists into a list of lists?\n",
    "shares = [row_1, row_2, row_3]\n",
    "print(shares)"
   ]
  },
  {
   "cell_type": "code",
   "execution_count": 20,
   "metadata": {},
   "outputs": [
    {
     "name": "stdout",
     "output_type": "stream",
     "text": [
      "Apple\n"
     ]
    }
   ],
   "source": [
    "# chained indexing from a list of lists\n",
    "# selecting the first element from the first list\n",
    "print(shares[0][0])"
   ]
  },
  {
   "cell_type": "markdown",
   "metadata": {},
   "source": [
    "### Task 1: Creating a list"
   ]
  },
  {
   "cell_type": "markdown",
   "metadata": {},
   "source": [
    "1. Use the variables to create a list named row_1 with the data for Facebook."
   ]
  },
  {
   "cell_type": "code",
   "execution_count": 2,
   "metadata": {},
   "outputs": [],
   "source": [
    "company = 'Facebook'\n",
    "med_salary = 116800\n",
    "women = 0.32\n",
    "satisf = 0.96\n",
    "high_stress = 0.44"
   ]
  },
  {
   "cell_type": "code",
   "execution_count": 3,
   "metadata": {},
   "outputs": [],
   "source": [
    "row_1 = [company, med_salary, women, satisf, high_stress]"
   ]
  },
  {
   "cell_type": "markdown",
   "metadata": {},
   "source": [
    "2. Create another list named row_2 for Microsoft, using the values \n",
    "\n",
    "```python\n",
    "'Microsoft', 102500, 0.27, 0.72, 0.58\n",
    "```\n",
    "3. Print both lists"
   ]
  },
  {
   "cell_type": "code",
   "execution_count": 4,
   "metadata": {},
   "outputs": [
    {
     "name": "stdout",
     "output_type": "stream",
     "text": [
      "['Facebook', 116800, 0.32, 0.96, 0.44]\n",
      "['Microsoft', 102500, 0.27, 0.72, 0.58]\n"
     ]
    }
   ],
   "source": [
    "row_2 = ['Microsoft', 102500, 0.27, 0.72, 0.58]\n",
    "\n",
    "print(row_1)\n",
    "print(row_2)"
   ]
  },
  {
   "cell_type": "markdown",
   "metadata": {},
   "source": [
    "### Task 2: Indexing"
   ]
  },
  {
   "cell_type": "markdown",
   "metadata": {},
   "source": [
    "1. Run the code cell to create the third list for Amazon.\n",
    "2. Create variables for the percentage of employess reporting high stress (last value in list) for each company. \n",
    "3. Calculate the average percentage of the three values.\n",
    "4. Print the mean stress\n",
    "\n",
    "The result should be 0.56"
   ]
  },
  {
   "cell_type": "code",
   "execution_count": 5,
   "metadata": {},
   "outputs": [],
   "source": [
    "# run this cell\n",
    "row_3 = ['Amazon', 81900, 0.26, 0.69, 0.66]"
   ]
  },
  {
   "cell_type": "code",
   "execution_count": 6,
   "metadata": {},
   "outputs": [
    {
     "name": "stdout",
     "output_type": "stream",
     "text": [
      "0.56\n"
     ]
    }
   ],
   "source": [
    "# Create variables for percentage of employees reporting high stress for each company (last value in list)\n",
    "stress_fb = row_1[-1]\n",
    "stress_ms = row_2[-1]\n",
    "stress_amzn = row_3[-1]\n",
    "\n",
    "# Calculate the average percentage of employess reporting high stress\n",
    "mean_stress = (stress_fb + stress_ms + stress_amzn)/3\n",
    "print(mean_stress)"
   ]
  },
  {
   "cell_type": "markdown",
   "metadata": {},
   "source": [
    "### Task 3: Creating a slice\n",
    "\n",
    "1. Create a new variable for each company of only the percentage values.\n",
    "2. Print the three slices."
   ]
  },
  {
   "cell_type": "code",
   "execution_count": 8,
   "metadata": {},
   "outputs": [
    {
     "name": "stdout",
     "output_type": "stream",
     "text": [
      "[0.32, 0.96, 0.44]\n",
      "[0.27, 0.72, 0.58]\n",
      "[0.26, 0.69, 0.66]\n"
     ]
    }
   ],
   "source": [
    "row_1_perc = row_1[2:]\n",
    "row_2_perc = row_2[2:]\n",
    "row_3_perc = row_3[2:]\n",
    "\n",
    "print(row_1_perc)\n",
    "print(row_2_perc)\n",
    "print(row_3_perc)"
   ]
  },
  {
   "cell_type": "markdown",
   "metadata": {},
   "source": [
    "### Task 4: Subsetting a list"
   ]
  },
  {
   "cell_type": "markdown",
   "metadata": {},
   "source": [
    "#### Example how to use sum() and len()\n",
    "\n",
    "See the example below on how to use the sum() and len() functions to calculate the mean of a numerical list."
   ]
  },
  {
   "cell_type": "code",
   "execution_count": 9,
   "metadata": {},
   "outputs": [
    {
     "name": "stdout",
     "output_type": "stream",
     "text": [
      "0.15463999999999997\n"
     ]
    }
   ],
   "source": [
    "big_tech_growth = [-0.023, 0.2044, 0.1835, 0.1395, 0.2688]\n",
    "avg_growth = sum(big_tech_growth)/len(big_tech_growth)\n",
    "print(avg_growth)"
   ]
  },
  {
   "cell_type": "markdown",
   "metadata": {},
   "source": [
    "1. Create a new list with only the salary data. Do this by indexing from the different lists row_1, row_2, row_3 and not by entering the actual values by hand.\n",
    "\n",
    "2. Calculate the average salary using the `sum()` and `len()` functions.\n",
    "\n",
    "The result should be 66233.42333333334"
   ]
  },
  {
   "cell_type": "code",
   "execution_count": 10,
   "metadata": {},
   "outputs": [
    {
     "name": "stdout",
     "output_type": "stream",
     "text": [
      "66233.42333333334\n"
     ]
    }
   ],
   "source": [
    "salaries = [row_1[1], row_2[1], row_3[1]]\n",
    "mean_salary = sum(salaries)/len(salaries)\n",
    "print(mean_salary)"
   ]
  },
  {
   "cell_type": "markdown",
   "metadata": {},
   "source": [
    "### Task 5: Create a list of lists"
   ]
  },
  {
   "cell_type": "markdown",
   "metadata": {},
   "source": [
    "1. Run the code cell to create the lists for Google and Apple\n",
    "2. Combine the the five rows in the list big_tech\n",
    "3. Print the list of lists."
   ]
  },
  {
   "cell_type": "code",
   "execution_count": 11,
   "metadata": {},
   "outputs": [],
   "source": [
    "row_4 = ['Google', 106900, 0.3, 0.89, 0.53]\n",
    "row_5 = ['Apple', 91300, 0.31, 0.73, 0.66]"
   ]
  },
  {
   "cell_type": "code",
   "execution_count": 12,
   "metadata": {},
   "outputs": [
    {
     "name": "stdout",
     "output_type": "stream",
     "text": [
      "[['Facebook', 116800, 0.32, 0.96, 0.44], ['Microsoft', 102500, 0.27, 0.72, 0.58], ['Amazon', 81900, 0.26, 0.69, 0.66], ['Google', 106900, 0.3, 0.89, 0.53], ['Apple', 91300, 0.31, 0.73, 0.66]]\n"
     ]
    }
   ],
   "source": [
    "# combine all rows in the list big_tech\n",
    "big_tech = [row_1, row_2, row_3, row_4, row_5]\n",
    "print(big_tech)"
   ]
  },
  {
   "cell_type": "markdown",
   "metadata": {},
   "source": [
    "### Task 6: Subsetting a list of lists\n",
    "\n",
    "1. Overwrite the salaries list by indexing the values from the big_tech list.\n",
    "2. Calculate the average salary using the `sum()` and `len()` functions.\n",
    "3. Print the mean salary.\n",
    "\n",
    "The result should be 99880.0"
   ]
  },
  {
   "cell_type": "code",
   "execution_count": 14,
   "metadata": {},
   "outputs": [
    {
     "name": "stdout",
     "output_type": "stream",
     "text": [
      "99880.0\n"
     ]
    }
   ],
   "source": [
    "salaries = [big_tech[0][1], big_tech[1][1], big_tech[2][1], big_tech[3][1], big_tech[4][1]]\n",
    "mean_salary = sum(salaries)/len(salaries)\n",
    "print(mean_salary)"
   ]
  }
 ],
 "metadata": {
  "kernelspec": {
   "display_name": "Python 3",
   "language": "python",
   "name": "python3"
  },
  "language_info": {
   "codemirror_mode": {
    "name": "ipython",
    "version": 3
   },
   "file_extension": ".py",
   "mimetype": "text/x-python",
   "name": "python",
   "nbconvert_exporter": "python",
   "pygments_lexer": "ipython3",
   "version": "3.8.5"
  }
 },
 "nbformat": 4,
 "nbformat_minor": 5
}
